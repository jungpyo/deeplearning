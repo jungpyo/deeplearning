{
  "cells": [
    {
      "cell_type": "code",
      "source": [
        "#from google.colab import drive\n",
        "#drive.mount('/content/drive')"
      ],
      "metadata": {
        "id": "tTmwCX-4hYA3"
      },
      "execution_count": 69,
      "outputs": []
    },
    {
      "cell_type": "code",
      "execution_count": 70,
      "metadata": {
        "id": "AB9QfGE6sRq9"
      },
      "outputs": [],
      "source": [
        "#from sklearn.datasets import load_boston # deprecated\n",
        "#boston = load_boston()\n",
        "#x = boston.data\n",
        "#y = boston.target\n",
        "#col_names = boston.feature_names"
      ]
    },
    {
      "cell_type": "code",
      "execution_count": 71,
      "metadata": {
        "id": "EnXmnUq3g0md"
      },
      "outputs": [],
      "source": [
        "import pandas as pd\n",
        "import numpy as np\n",
        "import matplotlib.pyplot as plt\n",
        "\n",
        "from sklearn.model_selection import train_test_split\n",
        "\n",
        "from sklearn.preprocessing import MinMaxScaler\n",
        "from sklearn.preprocessing import StandardScaler\n",
        "\n",
        "from sklearn.linear_model import LinearRegression\n",
        "from sklearn.linear_model import Ridge\n",
        "from sklearn.linear_model import Lasso\n",
        "from sklearn.linear_model import ElasticNet #l1 penalty: 0.5, l2 penalty: 3\n",
        "\n",
        "from sklearn.metrics import mean_squared_error as MSE\n",
        "from sklearn.metrics import mean_absolute_error as MAE\n",
        "\n",
        "import tensorflow as tf\n",
        "from tensorflow import keras\n",
        "from tensorflow.keras.layers import Input, Dense, BatchNormalization, Dropout\n",
        "from tensorflow.keras.models import Sequential, Model\n",
        "from tensorflow.keras.callbacks import EarlyStopping, ModelCheckpoint\n"
      ]
    },
    {
      "cell_type": "code",
      "execution_count": null,
      "metadata": {
        "id": "Q0Ajx4o1ujw0"
      },
      "outputs": [],
      "source": [
        "df = pd.read_csv('https://codeit-assets.s3.ap-northeast-2.amazonaws.com/tutorials/84/boston.csv')\n",
        "df.info()"
      ]
    },
    {
      "cell_type": "code",
      "execution_count": 73,
      "metadata": {
        "id": "nyfNZ71iwC30",
        "colab": {
          "base_uri": "https://localhost:8080/"
        },
        "outputId": "58a50ea4-c5d1-46bb-b903-ada7e88640c3"
      },
      "outputs": [
        {
          "output_type": "execute_result",
          "data": {
            "text/plain": [
              "((343, 13), (102, 13), (61, 13), (343,), (102,), (61,))"
            ]
          },
          "metadata": {},
          "execution_count": 73
        }
      ],
      "source": [
        "from sklearn.model_selection import train_test_split\n",
        "\n",
        "x = df.drop('MEDV', axis=1)\n",
        "y = df['MEDV']\n",
        "\n",
        "x_train, x_test, y_train, y_test = train_test_split(x, y, test_size=0.2,\n",
        "                                                    random_state=43,\n",
        "                                                    stratify=df['CHAS'])\n",
        "\n",
        "x_train, x_valid, y_train, y_valid = train_test_split(x_train, y_train, test_size=0.15,\n",
        "                                                      random_state=2021,\n",
        "                                                      stratify=x_train['CHAS'])\n",
        "\n",
        "x_train.shape, x_test.shape, x_valid.shape, y_train.shape, y_test.shape, y_valid.shape"
      ]
    },
    {
      "cell_type": "code",
      "execution_count": 74,
      "metadata": {
        "id": "9Uat3hoOyb8l"
      },
      "outputs": [],
      "source": [
        "# MinMaxScaling\n",
        "from sklearn.preprocessing import MinMaxScaler\n",
        "\n",
        "mm_scaler = MinMaxScaler()\n",
        "x_train[['NOX', 'RM']] = mm_scaler.fit_transform(x_train[['NOX', 'RM']])\n",
        "x_valid[['NOX', 'RM']] = mm_scaler.fit_transform(x_valid[['NOX', 'RM']])\n",
        "x_test[['NOX', 'RM']] = mm_scaler.fit_transform(x_test[['NOX', 'RM']])\n"
      ]
    },
    {
      "cell_type": "code",
      "source": [
        "x_train[['NOX', 'RM']].plot(kind='hist', bins=50)"
      ],
      "metadata": {
        "id": "4TVRa-gEtznB"
      },
      "execution_count": null,
      "outputs": []
    },
    {
      "cell_type": "code",
      "execution_count": 76,
      "metadata": {
        "id": "TNAFiJ1G0TrL"
      },
      "outputs": [],
      "source": [
        "# Standard Scaling\n",
        "from sklearn.preprocessing import StandardScaler\n",
        "\n",
        "st_scaler = StandardScaler()\n",
        "x_train[['RAD', 'B']] = st_scaler.fit_transform(x_train[['RAD', 'B']])\n",
        "x_valid[['RAD', 'B']] = st_scaler.fit_transform(x_valid[['RAD', 'B']])\n",
        "x_test[['RAD', 'B']] = st_scaler.fit_transform(x_test[['RAD', 'B']])"
      ]
    },
    {
      "cell_type": "code",
      "source": [
        "x_train[['RAD', 'B']].plot(kind='hist', bins=50)"
      ],
      "metadata": {
        "id": "wUG9fAMiud8H"
      },
      "execution_count": null,
      "outputs": []
    },
    {
      "cell_type": "code",
      "execution_count": 78,
      "metadata": {
        "id": "y0P-fHwK00dz"
      },
      "outputs": [],
      "source": [
        "# ML - Linear,ridge\n",
        "from sklearn.linear_model import LinearRegression\n",
        "from sklearn.linear_model import Ridge\n",
        "from sklearn.linear_model import Lasso\n",
        "from sklearn.linear_model import ElasticNet #l1 penalty: 0.5, l2 penalty: 3\n",
        "\n",
        "lr = LinearRegression().fit(x_train, y_train)\n",
        "ridge = Ridge(5).fit(x_train, y_train)\n",
        "lasso = Lasso(1).fit(x_train, y_train)\n",
        "elastic = ElasticNet(alpha=3.5, l1_ratio=(0.5/3.5)).fit(x_train, y_train)\n"
      ]
    },
    {
      "cell_type": "code",
      "execution_count": 79,
      "metadata": {
        "colab": {
          "base_uri": "https://localhost:8080/"
        },
        "id": "KVAzESpX4MTp",
        "outputId": "56b70ffe-00a5-4979-d82f-bba0a41fcb53"
      },
      "outputs": [
        {
          "output_type": "stream",
          "name": "stdout",
          "text": [
            "RMSE of  l-reg  :  5.255211199149031\n",
            "RMSE of  ridge  :  5.1499962242010255\n",
            "RMSE of  lasso  :  6.087626260347734\n",
            "RMSE of  elastic :  6.198585106066855\n"
          ]
        }
      ],
      "source": [
        "# Model evaluation. loss = root mean_squared_error RMSE\n",
        "#\n",
        "from sklearn.metrics import mean_squared_error as MSE\n",
        "\n",
        "model_names = ['l-reg ', 'ridge ', 'lasso ', 'elastic']\n",
        "models = [lr, ridge, lasso, elastic]\n",
        "\n",
        "for i in range(4):\n",
        "  y_pred = models[i].predict(x_valid)\n",
        "  print(\"RMSE of \", model_names[i], \": \", np.sqrt(MSE(y_valid, y_pred)))"
      ]
    },
    {
      "cell_type": "code",
      "execution_count": 80,
      "metadata": {
        "id": "VuidIVQj47HS",
        "colab": {
          "base_uri": "https://localhost:8080/"
        },
        "outputId": "ce5d3224-1adb-4aa8-af4a-cd33543804b8"
      },
      "outputs": [
        {
          "output_type": "stream",
          "name": "stdout",
          "text": [
            "MAE of  l-reg  :  3.1227242451872868\n",
            "MAE of  ridge  :  3.1428217554777955\n",
            "MAE of  lasso  :  3.454738857928491\n",
            "MAE of  elastic :  3.559192900082566\n"
          ]
        }
      ],
      "source": [
        "# Model eval of Test-set. loss = mean_absolute_error\n",
        "from sklearn.metrics import mean_absolute_error as MAE\n",
        "\n",
        "model_names = ['l-reg ', 'ridge ', 'lasso ', 'elastic']\n",
        "models = [lr, ridge, lasso, elastic]\n",
        "\n",
        "for i in range(4):\n",
        "  y_pred = models[i].predict(x_test)\n",
        "  print(\"MAE of \", model_names[i], \": \", MAE(y_test, y_pred))"
      ]
    },
    {
      "cell_type": "code",
      "execution_count": 81,
      "metadata": {
        "id": "G4w6AawBoocC"
      },
      "outputs": [],
      "source": [
        "# DNN Modeling\n",
        "#\n",
        "import tensorflow as tf\n",
        "from tensorflow import keras\n",
        "from tensorflow.keras.layers import Input, Dense, BatchNormalization, Dropout\n",
        "from tensorflow.keras.models import Sequential, Model\n",
        "from tensorflow.keras.callbacks import EarlyStopping, ModelCheckpoint"
      ]
    },
    {
      "cell_type": "code",
      "execution_count": null,
      "metadata": {
        "id": "X5I1iGx3g0nI"
      },
      "outputs": [],
      "source": [
        "#\n",
        "keras.backend.clear_session()\n",
        "\n",
        "model = Sequential()\n",
        "\n",
        "model.add(Dense(32, activation='swish', input_shape=(13,)))\n",
        "model.add(BatchNormalization())\n",
        "model.add(Dense(32, activation='swish'))\n",
        "model.add(BatchNormalization())\n",
        "model.add(Dense(1))\n",
        "\n",
        "model.compile(optimizer='adam', loss='mse') # In case of Regression, No need of metrics='accuracy'\n",
        "\n",
        "es = EarlyStopping(monitor='val_loss', patience=5, verbose=1)\n",
        "mc = ModelCheckpoint('best_model.h5', monitor='val_loss', mode='min', save_best_only=True, verbose=1)\n",
        "\n",
        "history = model.fit(x_train, y_train,\n",
        "                    validation_data=(x_valid, y_valid), epochs=200, batch_size=32, verbose=1, callbacks=[mc])\n",
        "#history = model.fit(x_train, y_train, validation_split=0.2, epochs=200, batch_size=32, verbose=1, callbacks=[es,mc])"
      ]
    },
    {
      "cell_type": "code",
      "execution_count": null,
      "metadata": {
        "id": "jNYCK-iFg0nL"
      },
      "outputs": [],
      "source": [
        "# Visualization\n",
        "import matplotlib.pyplot as plt\n",
        "\n",
        "plt.figure(figsize=(10,6))\n",
        "plt.plot(history.history['loss'])\n",
        "plt.plot(history.history['val_loss'])\n",
        "plt.title('Loss')\n",
        "plt.xlabel('epochs')\n",
        "plt.ylabel('MSE')\n",
        "plt.legend(['loss', 'val_loss'])\n",
        "plt.show()"
      ]
    },
    {
      "cell_type": "code",
      "source": [
        "model.evaluate(x_test, y_test)"
      ],
      "metadata": {
        "colab": {
          "base_uri": "https://localhost:8080/"
        },
        "id": "ojBnbkDNESfi",
        "outputId": "24e7ad44-f8a4-4e3d-9d68-5dc17c728b5a"
      },
      "execution_count": 84,
      "outputs": [
        {
          "output_type": "stream",
          "name": "stdout",
          "text": [
            "4/4 [==============================] - 0s 4ms/step - loss: 15.7496\n"
          ]
        },
        {
          "output_type": "execute_result",
          "data": {
            "text/plain": [
              "15.749550819396973"
            ]
          },
          "metadata": {},
          "execution_count": 84
        }
      ]
    },
    {
      "cell_type": "code",
      "source": [
        "y_pred = model.predict(x_test)\n",
        "print(\"RMSE of DNN : \", np.sqrt(MSE(y_test, y_pred)))"
      ],
      "metadata": {
        "colab": {
          "base_uri": "https://localhost:8080/"
        },
        "id": "DcYGih1J0M4V",
        "outputId": "9ac16242-c972-43a9-8ef7-9b5310cec820"
      },
      "execution_count": 85,
      "outputs": [
        {
          "output_type": "stream",
          "name": "stdout",
          "text": [
            "4/4 [==============================] - 0s 4ms/step\n",
            "RMSE of DNN :  3.9685704633339145\n"
          ]
        }
      ]
    }
  ],
  "metadata": {
    "colab": {
      "provenance": []
    },
    "kernelspec": {
      "display_name": "Python 3",
      "language": "python",
      "name": "python3"
    },
    "language_info": {
      "codemirror_mode": {
        "name": "ipython",
        "version": 3
      },
      "file_extension": ".py",
      "mimetype": "text/x-python",
      "name": "python",
      "nbconvert_exporter": "python",
      "pygments_lexer": "ipython3",
      "version": "3.6.9"
    }
  },
  "nbformat": 4,
  "nbformat_minor": 0
}