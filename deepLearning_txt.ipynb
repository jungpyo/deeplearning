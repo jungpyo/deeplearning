{
  "cells": [
    {
      "cell_type": "markdown",
      "metadata": {
        "id": "bmuZuOC6H-VP"
      },
      "source": [
        "## NLP steps\n",
        "> Pre-processing > tokenizer (dic) > texts_to_sequences -> padding -> embedding -> modeling\n",
        "> ML and LSTM"
      ]
    },
    {
      "cell_type": "markdown",
      "source": [
        "# NL Classification by ML (RandomForest)\n"
      ],
      "metadata": {
        "id": "OMbM_DczE-MU"
      }
    },
    {
      "cell_type": "code",
      "source": [
        "# hangul font for colab\n",
        "#\n",
        "!sudo apt-get install -y fonts-nanum\n",
        "!sudo fc-cache -fv\n",
        "!rm ~/.cache/matplotlib -rf\n",
        "\n",
        "#\n",
        "# Restart colab runtime"
      ],
      "metadata": {
        "id": "0M-LED1j8TYu"
      },
      "execution_count": null,
      "outputs": []
    },
    {
      "cell_type": "code",
      "source": [
        "import matplotlib.pyplot as plt\n",
        "\n",
        "plt.rc('font', family='NanumBarunGothic')"
      ],
      "metadata": {
        "id": "jSDjXrq48qZY"
      },
      "execution_count": null,
      "outputs": []
    },
    {
      "cell_type": "code",
      "execution_count": null,
      "metadata": {
        "id": "tde5VtGeH-VR"
      },
      "outputs": [],
      "source": [
        "#import\n",
        "import numpy as np\n",
        "import pandas as pd"
      ]
    },
    {
      "cell_type": "code",
      "execution_count": null,
      "metadata": {
        "id": "LwSSuBfhH-VS"
      },
      "outputs": [],
      "source": [
        "# AI-HUB corpus data read\n",
        "final_data = pd.read_csv('https://github.com/ohgzone/file1/raw/main/aihub_coupus.csv')\n",
        "final_data.head()"
      ]
    },
    {
      "cell_type": "code",
      "execution_count": null,
      "metadata": {
        "id": "1ryvf3F6H-VU"
      },
      "outputs": [],
      "source": [
        "# check special char, english, numbers\n",
        "final_data[final_data['문장'].str.contains('[^가-힣 ]')].values[:5]"
      ]
    },
    {
      "cell_type": "code",
      "execution_count": null,
      "metadata": {
        "id": "ADZ2fCjgH-VU",
        "colab": {
          "base_uri": "https://localhost:8080/"
        },
        "outputId": "d2004d7c-86ef-4f58-db90-ddaaad27d99c"
      },
      "outputs": [
        {
          "output_type": "stream",
          "name": "stderr",
          "text": [
            "<ipython-input-4-ea4f4d2dcf49>:2: FutureWarning: The default value of regex will change from True to False in a future version.\n",
            "  final_data['문장'] = final_data['문장'].str.replace('[^가-힣 ]','')\n"
          ]
        }
      ],
      "source": [
        "# remove special char, english, numbers\n",
        "final_data['문장'] = final_data['문장'].str.replace('[^가-힣 ]','')"
      ]
    },
    {
      "cell_type": "code",
      "execution_count": null,
      "metadata": {
        "id": "TOubEg_7H-VU",
        "outputId": "ecbee037-9216-46b7-bca1-8e3d2d738734",
        "colab": {
          "base_uri": "https://localhost:8080/"
        }
      },
      "outputs": [
        {
          "output_type": "execute_result",
          "data": {
            "text/plain": [
              "0"
            ]
          },
          "metadata": {},
          "execution_count": 5
        }
      ],
      "source": [
        "# confirm [special char, english, numbers] is not exists\n",
        "final_data['문장'][final_data['문장'].str.contains('[^가-힣 ]')].sum()"
      ]
    },
    {
      "cell_type": "code",
      "source": [
        "final_data.head()"
      ],
      "metadata": {
        "id": "4S6tVYlP6Moa"
      },
      "execution_count": null,
      "outputs": []
    },
    {
      "cell_type": "code",
      "execution_count": null,
      "metadata": {
        "id": "HeUkINN5H-VV"
      },
      "outputs": [],
      "source": [
        "# strip both start-blank and end-blank of string\n",
        "final_data['문장'] = final_data['문장'].str.strip()\n",
        "final_data.tail()"
      ]
    },
    {
      "cell_type": "code",
      "execution_count": null,
      "metadata": {
        "id": "8viwM2WSH-VW",
        "outputId": "fe290133-77d9-41ac-c89e-7cc0dec6a5ea",
        "colab": {
          "base_uri": "https://localhost:8080/"
        }
      },
      "outputs": [
        {
          "output_type": "execute_result",
          "data": {
            "text/plain": [
              "감정    0\n",
              "문장    0\n",
              "dtype: int64"
            ]
          },
          "metadata": {},
          "execution_count": 8
        }
      ],
      "source": [
        "# check Null data\n",
        "final_data.isnull().sum()"
      ]
    },
    {
      "cell_type": "code",
      "execution_count": null,
      "metadata": {
        "id": "bxgm9P1lH-VW",
        "outputId": "68dc95df-67a5-47e5-f5ef-2fb8356d0a90",
        "colab": {
          "base_uri": "https://localhost:8080/"
        }
      },
      "outputs": [
        {
          "output_type": "execute_result",
          "data": {
            "text/plain": [
              "56"
            ]
          },
          "metadata": {},
          "execution_count": 9
        }
      ],
      "source": [
        "# check duplicated data\n",
        "final_data['문장'].duplicated().sum()"
      ]
    },
    {
      "cell_type": "code",
      "execution_count": null,
      "metadata": {
        "id": "EI1rCXRrH-VW"
      },
      "outputs": [],
      "source": [
        "# remove duplicated data\n",
        "final_data.drop_duplicates(subset=['문장'], inplace=True)\n",
        "final_data.info()"
      ]
    },
    {
      "cell_type": "code",
      "source": [
        "# check label '감정' distribution\n",
        "final_data['감정'].value_counts()"
      ],
      "metadata": {
        "colab": {
          "base_uri": "https://localhost:8080/"
        },
        "id": "Jh1fR9AG9F4r",
        "outputId": "6315b957-4581-4a0c-90e2-af12c75b7b38"
      },
      "execution_count": null,
      "outputs": [
        {
          "output_type": "execute_result",
          "data": {
            "text/plain": [
              "불안    9311\n",
              "분노    9149\n",
              "상처    9130\n",
              "슬픔    9118\n",
              "당황    8747\n",
              "기쁨    6119\n",
              "Name: 감정, dtype: int64"
            ]
          },
          "metadata": {},
          "execution_count": 11
        }
      ]
    },
    {
      "cell_type": "code",
      "execution_count": null,
      "metadata": {
        "id": "qqjShDnUH-VX"
      },
      "outputs": [],
      "source": [
        "# draw plot Bar\n",
        "final_data['감정'].value_counts().plot(kind='bar')"
      ]
    },
    {
      "cell_type": "code",
      "source": [
        "#\n",
        "# Label encoding\n",
        "from sklearn.preprocessing import LabelEncoder\n",
        "\n",
        "le = LabelEncoder()\n",
        "final_data['감정'] = le.fit_transform(final_data['감정'])\n",
        "le.classes_"
      ],
      "metadata": {
        "colab": {
          "base_uri": "https://localhost:8080/"
        },
        "id": "MvX-KuDp9ksW",
        "outputId": "d17e4d12-0ccc-444f-a348-467286fcff65"
      },
      "execution_count": null,
      "outputs": [
        {
          "output_type": "execute_result",
          "data": {
            "text/plain": [
              "array(['기쁨', '당황', '분노', '불안', '상처', '슬픔'], dtype=object)"
            ]
          },
          "metadata": {},
          "execution_count": 14
        }
      ]
    },
    {
      "cell_type": "code",
      "execution_count": null,
      "metadata": {
        "id": "bOIE-okzH-VX"
      },
      "outputs": [],
      "source": [
        "final_data.tail()"
      ]
    },
    {
      "cell_type": "code",
      "execution_count": null,
      "metadata": {
        "id": "bDerk2PMH-VY",
        "colab": {
          "base_uri": "https://localhost:8080/"
        },
        "outputId": "1d4dd290-4254-4103-f43c-4d782e0b8536"
      },
      "outputs": [
        {
          "output_type": "execute_result",
          "data": {
            "text/plain": [
              "((51574,), (51574,))"
            ]
          },
          "metadata": {},
          "execution_count": 16
        }
      ],
      "source": [
        "# X, Y split\n",
        "features = final_data['문장'].values\n",
        "labels = final_data['감정'].values\n",
        "\n",
        "features.shape, labels.shape"
      ]
    },
    {
      "cell_type": "code",
      "source": [
        "features[:3]"
      ],
      "metadata": {
        "id": "yvWGa646QI_O"
      },
      "execution_count": null,
      "outputs": []
    },
    {
      "cell_type": "code",
      "execution_count": null,
      "metadata": {
        "id": "pVQCEhrAH-VY",
        "outputId": "08cd4283-6a8d-4dae-ce9c-e7716333e9cc",
        "colab": {
          "base_uri": "https://localhost:8080/"
        }
      },
      "outputs": [
        {
          "output_type": "stream",
          "name": "stdout",
          "text": [
            "string Max :152\n",
            "string Avg :33.91709000659247\n"
          ]
        }
      ],
      "source": [
        "print('string Max :{}'.format(max(len(l) for l in features)))\n",
        "print('string Avg :{}'.format(sum(map(len, features))/len(features)))"
      ]
    },
    {
      "cell_type": "code",
      "execution_count": null,
      "metadata": {
        "id": "ZHUldWPkH-VY"
      },
      "outputs": [],
      "source": [
        "import matplotlib.pyplot as plt\n",
        "# review data distribution. declined to range 30~40\n",
        "plt.hist([len(s) for s in features], bins=50)\n",
        "plt.xlabel('length of samples')\n",
        "plt.ylabel('number of samples')\n",
        "plt.show()"
      ]
    },
    {
      "cell_type": "code",
      "execution_count": null,
      "metadata": {
        "id": "xTrVXf-dH-VY",
        "outputId": "bc4a626c-5c3c-4192-d272-0a0842a56e92",
        "colab": {
          "base_uri": "https://localhost:8080/"
        }
      },
      "outputs": [
        {
          "output_type": "execute_result",
          "data": {
            "text/plain": [
              "((41259,), (10315,), (41259,), (10315,))"
            ]
          },
          "metadata": {},
          "execution_count": 21
        }
      ],
      "source": [
        "from sklearn.model_selection import train_test_split\n",
        "\n",
        "x_train, x_test, y_train, y_test = train_test_split(features, labels , test_size=0.2, stratify=labels, random_state=41)\n",
        "x_train.shape, x_test.shape, y_train.shape, y_test.shape"
      ]
    },
    {
      "cell_type": "code",
      "source": [
        "x_train[:2], y_train[:2]"
      ],
      "metadata": {
        "id": "IJod07AzjrNH"
      },
      "execution_count": null,
      "outputs": []
    },
    {
      "cell_type": "code",
      "source": [
        "# Corpus -> TF-IDF\n",
        "from sklearn.feature_extraction.text import TfidfVectorizer\n",
        "\n",
        "tfidf = TfidfVectorizer()\n",
        "x_train_v = tfidf.fit_transform(x_train)\n",
        "x_test_v = tfidf.transform(x_test)"
      ],
      "metadata": {
        "id": "Ug26Uny-G76Y"
      },
      "execution_count": null,
      "outputs": []
    },
    {
      "cell_type": "code",
      "source": [
        "# TF-IDF value of word in line\n",
        "print(x_train_v)"
      ],
      "metadata": {
        "id": "M5S1vqsWHO0_"
      },
      "execution_count": null,
      "outputs": []
    },
    {
      "cell_type": "code",
      "source": [
        "# TF-IDF maxtrix of train data : 41259 line, 47366 word\n",
        "x_train_v.shape"
      ],
      "metadata": {
        "colab": {
          "base_uri": "https://localhost:8080/"
        },
        "id": "WYC60PZrG79U",
        "outputId": "fb132504-de27-4442-dabc-e1f1f312eed5"
      },
      "execution_count": null,
      "outputs": [
        {
          "output_type": "execute_result",
          "data": {
            "text/plain": [
              "(41259, 47366)"
            ]
          },
          "metadata": {},
          "execution_count": 32
        }
      ]
    },
    {
      "cell_type": "code",
      "execution_count": null,
      "metadata": {
        "id": "m4IfXI_9H-Va",
        "colab": {
          "base_uri": "https://localhost:8080/"
        },
        "outputId": "6e44e034-893f-4bf6-8375-458595e3583c"
      },
      "outputs": [
        {
          "output_type": "execute_result",
          "data": {
            "text/plain": [
              "0.49801260300533207"
            ]
          },
          "metadata": {},
          "execution_count": 33
        }
      ],
      "source": [
        "# ML modeling : takes 4 minutes in colab\n",
        "from sklearn.ensemble import RandomForestClassifier\n",
        "\n",
        "rfc = RandomForestClassifier()\n",
        "rfc.fit(x_train_v, y_train)\n",
        "rfc.score(x_test_v, y_test)"
      ]
    },
    {
      "cell_type": "code",
      "execution_count": null,
      "metadata": {
        "id": "AJxKh_d9H-Vc"
      },
      "outputs": [],
      "source": [
        "# try to predict\n",
        "# explain output  : (0, 44327)\t0.241660101642553\n",
        "# 0 : 1-st line, 44327 : map number to word, 0.241660101642553 : tf-idf calculated value\n",
        "\n",
        "print(f'1st TF-IDF of valid data : {x_test_v[0]}')"
      ]
    },
    {
      "cell_type": "code",
      "source": [
        "print(f'Reverse of st TF-IDF of valid data : {tfidf.inverse_transform(x_test_v[:1])}')"
      ],
      "metadata": {
        "colab": {
          "base_uri": "https://localhost:8080/"
        },
        "id": "wgJ9KZzZNpn3",
        "outputId": "9f20437f-b882-4e5a-f2b5-6f0f832f7af2"
      },
      "execution_count": null,
      "outputs": [
        {
          "output_type": "stream",
          "name": "stdout",
          "text": [
            "Reverse of st TF-IDF of valid data : [array(['하는', '친구들은', '일을', '어려워', '사실', '만나기가', '때문에', '든다는', '돈이'],\n",
            "      dtype='<U22')]\n"
          ]
        }
      ]
    },
    {
      "cell_type": "code",
      "execution_count": null,
      "metadata": {
        "id": "38eHzFhCH-Vc",
        "colab": {
          "base_uri": "https://localhost:8080/"
        },
        "outputId": "509a6b54-a4e8-44b7-d967-d84a9ddce46d"
      },
      "outputs": [
        {
          "output_type": "execute_result",
          "data": {
            "text/plain": [
              "(array([4]), array(['상처'], dtype=object))"
            ]
          },
          "metadata": {},
          "execution_count": 37
        }
      ],
      "source": [
        "# predict by RandomForest model\n",
        "predict = rfc.predict(x_test_v[:1])\n",
        "predict, le.inverse_transform(predict)"
      ]
    },
    {
      "cell_type": "markdown",
      "source": [
        "# Classification by LSTM\n"
      ],
      "metadata": {
        "id": "b4GPE-2cEx1W"
      }
    },
    {
      "cell_type": "code",
      "source": [
        "## label encondign by manually\n",
        "# label list\n",
        "list1 = final_data['감정'].value_counts().index.values\n",
        "list1"
      ],
      "metadata": {
        "colab": {
          "base_uri": "https://localhost:8080/"
        },
        "outputId": "5312d91f-d35b-478a-a3e4-8a41dab789c9",
        "id": "pjIiD_idENAu"
      },
      "execution_count": null,
      "outputs": [
        {
          "output_type": "execute_result",
          "data": {
            "text/plain": [
              "array(['불안', '분노', '상처', '슬픔', '당황', '기쁨'], dtype=object)"
            ]
          },
          "metadata": {},
          "execution_count": 13
        }
      ]
    },
    {
      "cell_type": "code",
      "source": [
        "# label - class mapping\n",
        "label2class = {}\n",
        "class2label = {}\n",
        "for cl, la in enumerate(list1):\n",
        "  # print(i, j)\n",
        "  label2class[la] = cl\n",
        "  class2label[cl] = la\n",
        "\n",
        "print(label2class)\n",
        "print(class2label)"
      ],
      "metadata": {
        "colab": {
          "base_uri": "https://localhost:8080/"
        },
        "outputId": "e5d8ca05-ad72-4b2e-ab4d-6d4252ea83a8",
        "id": "FCcmvEp4ENAu"
      },
      "execution_count": null,
      "outputs": [
        {
          "output_type": "stream",
          "name": "stdout",
          "text": [
            "{'불안': 0, '분노': 1, '상처': 2, '슬픔': 3, '당황': 4, '기쁨': 5}\n",
            "{0: '불안', 1: '분노', 2: '상처', 3: '슬픔', 4: '당황', 5: '기쁨'}\n"
          ]
        }
      ]
    },
    {
      "cell_type": "code",
      "execution_count": null,
      "metadata": {
        "id": "ARnluwG0ENAu"
      },
      "outputs": [],
      "source": [
        "# create new column of label\n",
        "final_data['label'] = final_data['감정'].map(label2class)"
      ]
    },
    {
      "cell_type": "code",
      "execution_count": null,
      "metadata": {
        "id": "m5pCGjCJENAu"
      },
      "outputs": [],
      "source": [
        "final_data.tail()"
      ]
    },
    {
      "cell_type": "code",
      "execution_count": null,
      "metadata": {
        "id": "4xsbHTWIENAu",
        "colab": {
          "base_uri": "https://localhost:8080/"
        },
        "outputId": "1b1a919d-f356-4a80-bcd0-01fcca582689"
      },
      "outputs": [
        {
          "output_type": "execute_result",
          "data": {
            "text/plain": [
              "((51574,), (51574,))"
            ]
          },
          "metadata": {},
          "execution_count": 17
        }
      ],
      "source": [
        "# X, Y split\n",
        "features = final_data['문장'].values\n",
        "labels = final_data['label'].values\n",
        "\n",
        "features.shape, labels.shape"
      ]
    },
    {
      "cell_type": "code",
      "source": [
        "# check data\n",
        "features[:3]"
      ],
      "metadata": {
        "id": "X7vRleveENAv"
      },
      "execution_count": null,
      "outputs": []
    },
    {
      "cell_type": "code",
      "execution_count": null,
      "metadata": {
        "id": "Zjjlous8ENAv"
      },
      "outputs": [],
      "source": [
        "import matplotlib.pyplot as plt\n",
        "# histogram\n",
        "plt.hist([len(s) for s in features], bins=50)\n",
        "plt.xlabel('length of samples')\n",
        "plt.ylabel('number of samples')\n",
        "plt.show()"
      ]
    },
    {
      "cell_type": "code",
      "execution_count": null,
      "metadata": {
        "outputId": "58764c1e-569b-4881-9b26-a35c669bdf3e",
        "colab": {
          "base_uri": "https://localhost:8080/"
        },
        "id": "OVo-1An2ENAv"
      },
      "outputs": [
        {
          "output_type": "execute_result",
          "data": {
            "text/plain": [
              "((41259,), (10315,), (41259,), (10315,))"
            ]
          },
          "metadata": {},
          "execution_count": 21
        }
      ],
      "source": [
        "# Train, Test data split\n",
        "from sklearn.model_selection import train_test_split\n",
        "\n",
        "x_train, x_test, y_train, y_test = train_test_split(features, labels , test_size=0.2, stratify=labels, random_state=41)\n",
        "x_train.shape, x_test.shape, y_train.shape, y_test.shape"
      ]
    },
    {
      "cell_type": "code",
      "source": [
        "# sample, label\n",
        "# {0: '불안', 1: '분노', 2: '상처', 3: '슬픔', 4: '당황', 5: '기쁨'}\n",
        "\n",
        "x_train[:2], y_train[:2]"
      ],
      "metadata": {
        "colab": {
          "base_uri": "https://localhost:8080/"
        },
        "outputId": "93be29b7-e11f-44b5-803b-0ecfa2092549",
        "id": "iDWU4LL8ENAv"
      },
      "execution_count": null,
      "outputs": [
        {
          "output_type": "execute_result",
          "data": {
            "text/plain": [
              "(array(['아르바이트만 하다가 취업하려니 거부감 들어', '혼자가 편하다고 한 게 후회돼'], dtype=object),\n",
              " array([1, 4]))"
            ]
          },
          "metadata": {},
          "execution_count": 22
        }
      ]
    },
    {
      "cell_type": "code",
      "execution_count": null,
      "metadata": {
        "id": "p8ekogIIENAw"
      },
      "outputs": [],
      "source": [
        "#\n",
        "# Tokenizing\n",
        "\n",
        "import tensorflow as tf\n",
        "from tensorflow.keras.preprocessing.text import Tokenizer\n",
        "from tensorflow.keras.preprocessing.sequence import pad_sequences"
      ]
    },
    {
      "cell_type": "code",
      "execution_count": null,
      "metadata": {
        "id": "3R7I9oMAENAw"
      },
      "outputs": [],
      "source": [
        "# Tokenizer : bag of words (fit_on_texts)\n",
        "tokenizer = Tokenizer()\n",
        "tokenizer.fit_on_texts(x_train)"
      ]
    },
    {
      "cell_type": "code",
      "execution_count": null,
      "metadata": {
        "scrolled": true,
        "id": "GEjeQozKENAw"
      },
      "outputs": [],
      "source": [
        "# word - index mapping\n",
        "print(tokenizer.word_index)\n",
        "\n",
        "# index - word mapping\n",
        "print(tokenizer.index_word)\n",
        "\n",
        "# word frequency\n",
        "print(tokenizer.word_counts)"
      ]
    },
    {
      "cell_type": "code",
      "execution_count": null,
      "metadata": {
        "scrolled": true,
        "id": "jX2FF7fZENAx"
      },
      "outputs": [],
      "source": [
        "# total words count : 47,646\n",
        "max_words = len(tokenizer.index_word)\n",
        "#print(max_words)"
      ]
    },
    {
      "cell_type": "code",
      "execution_count": null,
      "metadata": {
        "id": "NdCOC6V5ENAx"
      },
      "outputs": [],
      "source": [
        "#\n",
        "# texts_to_sequences == convert text to index sequences\n",
        "#\n",
        "x_train_seq = tokenizer.texts_to_sequences(x_train)\n",
        "x_test_seq = tokenizer.texts_to_sequences(x_test)"
      ]
    },
    {
      "cell_type": "code",
      "execution_count": null,
      "metadata": {
        "outputId": "1a3ddb7b-264a-4ab9-91b4-bc1f5f5e3341",
        "colab": {
          "base_uri": "https://localhost:8080/"
        },
        "id": "DMNFMyFRENAx"
      },
      "outputs": [
        {
          "output_type": "stream",
          "name": "stdout",
          "text": [
            "41259 10315\n"
          ]
        }
      ],
      "source": [
        "# count after converting text to sequences\n",
        "#x_train.shape, x_test.shape, y_train.shape, y_test.shape : ((41259,), (10315,), (41259,), (10315,))\n",
        "print(len(x_train_seq), len(x_test_seq))"
      ]
    },
    {
      "cell_type": "code",
      "execution_count": null,
      "metadata": {
        "id": "nz8XLTVfENAy"
      },
      "outputs": [],
      "source": [
        "print(x_train[0:3])\n",
        "print(x_train_seq[0:3])"
      ]
    },
    {
      "cell_type": "code",
      "execution_count": null,
      "metadata": {
        "outputId": "ac453242-21d9-49d4-b6a5-5c1f66d307cf",
        "colab": {
          "base_uri": "https://localhost:8080/"
        },
        "id": "fkwNSqvSENAy"
      },
      "outputs": [
        {
          "output_type": "execute_result",
          "data": {
            "text/plain": [
              "38"
            ]
          },
          "metadata": {},
          "execution_count": 34
        }
      ],
      "source": [
        "# padding sequence\n",
        "#\n",
        "# grab the max sentence's seq length :  38?\n",
        "max(len(line) for line in x_train_seq)"
      ]
    },
    {
      "cell_type": "code",
      "execution_count": null,
      "metadata": {
        "id": "Qy6v7sAnENAy"
      },
      "outputs": [],
      "source": [
        "# Set the lenght of all sentences to max seq length\n",
        "\n",
        "x_train_pad = pad_sequences(x_train_seq, maxlen=38)\n",
        "x_test_pad = pad_sequences(x_test_seq, maxlen=38)"
      ]
    },
    {
      "cell_type": "code",
      "execution_count": null,
      "metadata": {
        "id": "Guy__JakENAy"
      },
      "outputs": [],
      "source": [
        "# check the padding result\n",
        "x_train_pad[:1]"
      ]
    },
    {
      "cell_type": "code",
      "execution_count": null,
      "metadata": {
        "outputId": "ce58c5b4-9367-4958-8627-930ea4f3746b",
        "colab": {
          "base_uri": "https://localhost:8080/"
        },
        "id": "AiGxTWQaENAy"
      },
      "outputs": [
        {
          "output_type": "execute_result",
          "data": {
            "text/plain": [
              "((41259, 38), (10315, 38))"
            ]
          },
          "metadata": {},
          "execution_count": 37
        }
      ],
      "source": [
        "# check shape of sentence sequence\n",
        "x_train_pad.shape, x_test_pad.shape"
      ]
    },
    {
      "cell_type": "code",
      "execution_count": null,
      "metadata": {
        "id": "naXDHQOrENAy"
      },
      "outputs": [],
      "source": [
        "# LSTM Modeling\n",
        "#\n",
        "from tensorflow.keras.layers import Dense, Flatten, Conv1D, MaxPool2D\n",
        "from tensorflow.keras.layers import Embedding, Bidirectional, LSTM, SimpleRNN, GRU\n",
        "from tensorflow.keras.models import Sequential\n",
        "from tensorflow.keras.callbacks import EarlyStopping, ModelCheckpoint"
      ]
    },
    {
      "cell_type": "code",
      "execution_count": null,
      "metadata": {
        "id": "oXEYyPHvENAy"
      },
      "outputs": [],
      "source": [
        "# Hyper parameter Tuning\n",
        "\n",
        "max_words = 47646 + 1   # max_words + padding 0\n",
        "max_len = 38            # max_len\n",
        "embedding_dim = 32      # embedding dimension - arbitary"
      ]
    },
    {
      "cell_type": "code",
      "execution_count": null,
      "metadata": {
        "id": "pHQWbBTkENAz"
      },
      "outputs": [],
      "source": [
        "model = Sequential()\n",
        "# Convert word to meaningful 32-dim Vector(Embedding)\n",
        "model.add(Embedding(max_words, embedding_dim, input_length=max_len))"
      ]
    },
    {
      "cell_type": "code",
      "execution_count": null,
      "metadata": {
        "id": "2xor4zpyENAz"
      },
      "outputs": [],
      "source": [
        "# LSTM model\n",
        "#model.add(LSTM(16, return_sequences=True))\n",
        "model.add(LSTM(16, return_sequences=True))\n",
        "model.add(Flatten())\n",
        "model.add(Dense(128, activation='swish'))\n",
        "model.add(Dense(32, activation='swish'))\n",
        "model.add(Dense(6, activation='softmax'))\n",
        "\n",
        "# compile\n",
        "model.compile(loss = 'sparse_categorical_crossentropy',\n",
        "              optimizer = 'adam',\n",
        "              metrics = 'accuracy')\n",
        "model.summary()"
      ]
    },
    {
      "cell_type": "code",
      "execution_count": null,
      "metadata": {
        "id": "MzBUtpUtENAz"
      },
      "outputs": [],
      "source": [
        "# callbacks\n",
        "es = EarlyStopping(monitor='val_loss', patience=10, verbose=1)\n",
        "checkpoint_path = 'tmp_checkpoint.ckpt'\n",
        "cp = ModelCheckpoint(checkpoint_path, monitor='val_loss', verbose=1, save_best_only=True)"
      ]
    },
    {
      "cell_type": "code",
      "execution_count": null,
      "metadata": {
        "id": "-sh5JWDsENAz"
      },
      "outputs": [],
      "source": [
        "# fit\n",
        "history = model.fit(x_train_pad, y_train, epochs=50, batch_size=512,\n",
        "                      validation_split=0.2, verbose =1, callbacks=[es, cp])"
      ]
    },
    {
      "cell_type": "code",
      "execution_count": null,
      "metadata": {
        "id": "luiPLD-6ENAz"
      },
      "outputs": [],
      "source": [
        "epochs = range(1, len(history.history['accuracy']) + 1)\n",
        "plt.plot(epochs, history.history['accuracy'])\n",
        "plt.plot(epochs, history.history['val_accuracy'])\n",
        "plt.title('model accuracy')\n",
        "plt.ylabel('loss')\n",
        "plt.xlabel('epoch')\n",
        "plt.legend(['train', 'valid'], )\n",
        "plt.show()"
      ]
    },
    {
      "cell_type": "code",
      "execution_count": null,
      "metadata": {
        "outputId": "cd77c722-f318-443c-dfd4-33cb4cfd43a2",
        "colab": {
          "base_uri": "https://localhost:8080/"
        },
        "id": "vF_jJfbTENAz"
      },
      "outputs": [
        {
          "output_type": "stream",
          "name": "stdout",
          "text": [
            "323/323 [==============================] - 2s 7ms/step - loss: 4.3952 - accuracy: 0.4167\n"
          ]
        },
        {
          "output_type": "execute_result",
          "data": {
            "text/plain": [
              "[4.395216464996338, 0.41667473316192627]"
            ]
          },
          "metadata": {},
          "execution_count": 57
        }
      ],
      "source": [
        "model.evaluate(x_test_pad, y_test)"
      ]
    },
    {
      "cell_type": "code",
      "execution_count": null,
      "metadata": {
        "outputId": "7d23664d-e661-41fb-d59e-f237701eecb2",
        "colab": {
          "base_uri": "https://localhost:8080/"
        },
        "id": "nJGMBfOiENAz"
      },
      "outputs": [
        {
          "output_type": "stream",
          "name": "stdout",
          "text": [
            "문자열 : 눈 수술을 했더니 시력이 좋아졌어\n",
            "Sequence : [   0    0    0    0    0    0    0    0    0    0    0    0    0    0\n",
            "    0    0    0    0    0    0    0    0    0    0    0    0    0    0\n",
            "    0    0    0    0    0 1954  412  493 2450  961]\n"
          ]
        }
      ],
      "source": [
        "#\n",
        "#predict\n",
        "\n",
        "print(f'String : {x_test[0]}')\n",
        "print(f'Sequence : {x_test_pad[0]}')"
      ]
    },
    {
      "cell_type": "code",
      "execution_count": null,
      "metadata": {
        "colab": {
          "base_uri": "https://localhost:8080/"
        },
        "outputId": "62abc668-122a-49b9-f177-c32ae7fb289d",
        "id": "4y9h51u1ENA0"
      },
      "outputs": [
        {
          "output_type": "stream",
          "name": "stdout",
          "text": [
            "1/1 [==============================] - 1s 543ms/step\n"
          ]
        }
      ],
      "source": [
        "# model predict\n",
        "predict = model.predict(x_test_pad[:1])"
      ]
    },
    {
      "cell_type": "code",
      "execution_count": null,
      "metadata": {
        "outputId": "61dde8ec-2400-429c-d981-e6a84a808273",
        "colab": {
          "base_uri": "https://localhost:8080/"
        },
        "id": "O_RQKIOnENA0"
      },
      "outputs": [
        {
          "output_type": "stream",
          "name": "stdout",
          "text": [
            "True : 기쁨\n",
            "Predict : 불안\n"
          ]
        }
      ],
      "source": [
        "print(f'True : {class2label[y_test[0]]}')\n",
        "print(f'Predict : {class2label[np.argmax(predict)]}')"
      ]
    }
  ],
  "metadata": {
    "kernelspec": {
      "display_name": "Python 3",
      "name": "python3"
    },
    "language_info": {
      "codemirror_mode": {
        "name": "ipython",
        "version": 3
      },
      "file_extension": ".py",
      "mimetype": "text/x-python",
      "name": "python",
      "nbconvert_exporter": "python",
      "pygments_lexer": "ipython3",
      "version": "3.6.9"
    },
    "colab": {
      "provenance": [],
      "gpuType": "T4"
    }
  },
  "nbformat": 4,
  "nbformat_minor": 0
}