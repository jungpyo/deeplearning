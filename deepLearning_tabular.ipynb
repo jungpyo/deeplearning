{
  "cells": [
    {
      "cell_type": "markdown",
      "source": [
        "### reference tips\n",
        "- import sklearn\n",
        "- help(sklearn)\n",
        "- import sklearn.ensemble\n",
        "- dir(sklearn.ensemble)\n",
        "- from sklearn.ensemble import RandomForestClassifier"
      ],
      "metadata": {
        "id": "xrjn65nN0XhT"
      }
    },
    {
      "cell_type": "code",
      "source": [
        "# import lib\n",
        "from keras.models import Sequential\n",
        "from keras.layers import Dense, Dropout\n",
        "from sklearn.model_selection import train_test_split\n",
        "import numpy\n",
        "import pandas as pd\n",
        "import matplotlib.pyplot as plt"
      ],
      "metadata": {
        "id": "JXqyYSnN2c2V"
      },
      "execution_count": null,
      "outputs": []
    },
    {
      "cell_type": "code",
      "source": [
        "import numpy as np\n",
        "import pandas as pd\n",
        "import matplotlib.pyplot as plt\n",
        "from sklearn.model_selection import train_test_split\n",
        "\n",
        "import tensorflow as tf\n",
        "from tensorflow import keras\n",
        "from tensorflow.keras.models import Sequential\n",
        "from tensorflow.keras.layers import Dense, Dropout, BatchNormalization\n",
        "from tensorflow.keras.callbacks import ModelCheckpoint, EarlyStopping\n",
        "\n",
        "# load\n",
        "df = pd.read_csv('diabetes.csv')\n",
        "df.info()"
      ],
      "metadata": {
        "id": "H41i1oDD-oXJ"
      },
      "execution_count": null,
      "outputs": []
    },
    {
      "cell_type": "code",
      "source": [
        "# Feature, Label split\n",
        "X = df.drop('Outcome', axis=1)\n",
        "y = df['Outcome']\n",
        "X.shape, y.shape"
      ],
      "metadata": {
        "id": "4f9Pmt2YkxfU"
      },
      "execution_count": null,
      "outputs": []
    },
    {
      "cell_type": "code",
      "source": [
        "# modeling\n",
        "model = Sequential()\n",
        "model.add(Dense(15, activation='relu', input_shape=(8,)))\n",
        "model.add(Dense(10, activation='relu'))\n",
        "\n",
        "model.add(Dropout(.2))\n",
        "model.add(Dense(8, activation='relu'))\n",
        "model.add(Dropout(.2))\n",
        "model.add(Dense(1, activation='sigmoid'))\n",
        "\n",
        "model.compile(loss=\"binary_crossentropy\", optimizer=\"adam\", metrics=['accuracy'])\n",
        "\n",
        "mc = ModelCheckpoint('save_best.h5', monitor='val_loss', mode='min', save_best_only=True, verbose=1)\n",
        "es = EarlyStopping(monitor='val_loss', patience=5, mode='auto', verbose=1)\n",
        "\n",
        "history = model.fit(X, y, validation_split=0.2, epochs=300, batch_size=16, verbose=0, callbacks=[mc, es])\n",
        "##x_train, x_test, y_train, y_test = train_test_split(X, Y, test_size=0.2, random_state=42)\n",
        "#history = model.fit(x_train, y_train, epochs = 1000, batch_size=20, validation_data=(x_test, y_test), verbose=0)\n",
        "\n",
        "#model.save('weights.h5')"
      ],
      "metadata": {
        "id": "Q6z8nznv4Ydx"
      },
      "execution_count": null,
      "outputs": []
    },
    {
      "cell_type": "code",
      "source": [
        "losses = pd.DataFrame(model.history.history)\n",
        "losses.head(5)"
      ],
      "metadata": {
        "id": "R5CmuBmzm-RZ"
      },
      "execution_count": null,
      "outputs": []
    },
    {
      "cell_type": "code",
      "source": [
        "losses[['loss','val_loss']].plot()\n",
        "losses[['accuracy','val_accuracy']].plot()"
      ],
      "metadata": {
        "id": "5ycILNsOnVim"
      },
      "execution_count": null,
      "outputs": []
    },
    {
      "cell_type": "code",
      "source": [
        "model.evaluate(X_test, y_test)"
      ],
      "metadata": {
        "colab": {
          "base_uri": "https://localhost:8080/"
        },
        "id": "KnQ8VsR6BqUk",
        "outputId": "181030b7-9f32-4f01-d136-117d1ed54b71"
      },
      "execution_count": null,
      "outputs": [
        {
          "output_type": "stream",
          "name": "stdout",
          "text": [
            "5/5 [==============================] - 0s 5ms/step - loss: 0.6524 - accuracy: 0.6494\n"
          ]
        },
        {
          "output_type": "execute_result",
          "data": {
            "text/plain": [
              "[0.6523656249046326, 0.649350643157959]"
            ]
          },
          "metadata": {},
          "execution_count": 12
        }
      ]
    },
    {
      "cell_type": "code",
      "source": [
        "# Graph\n",
        "#plt.figure(figsize=(10,6))\n",
        "plt.plot(history.history['loss'])\n",
        "plt.plot(history.history['val_loss'])\n",
        "plt.title('Loss')\n",
        "plt.xlabel('epochs')\n",
        "plt.ylabel('MSE')\n",
        "plt.legend(['train_loss', 'val_loss'])\n",
        "plt.show()"
      ],
      "metadata": {
        "id": "loUCcmLYAnz3"
      },
      "execution_count": null,
      "outputs": []
    },
    {
      "cell_type": "code",
      "source": [
        "import numpy as np\n",
        "from keras.metrics import mean_squared_error\n",
        "#from sklearn.metrics import mean_squared_error,\n",
        "from sklearn.metrics import r2_score\n",
        "\n",
        "def RMSE(y_test, y_predict):\n",
        "    return np.sqrt(mean_squared_error(y_test, y_predict))\n",
        "\n",
        "# evaluate and predict\n",
        "y_predict = model.predict(X_test)\n",
        "\n",
        "# loss, mse\n",
        "loss, accuracy = model.evaluate(X_test, y_test, batch_size = 16)\n",
        "print(\"loss : \", loss)\n",
        "print(\"accuracy : \", accuracy)\n",
        "\n",
        "# rmse\n",
        "print(\"RMSE : \", RMSE(y_test, y_predict))\n",
        "\n",
        "# r2\n",
        "print(\"R2 : \", r2_score(y_test, y_predict))"
      ],
      "metadata": {
        "id": "dySmuotgyoWM"
      },
      "execution_count": null,
      "outputs": []
    },
    {
      "cell_type": "code",
      "source": [
        "# randomforest classifier\n",
        "from sklearn.ensemble import RandomForestClassifier\n",
        "import numpy\n",
        "import pandas as pd\n",
        "import matplotlib.pyplot as plt\n",
        "\n",
        "# random seed for reproducibility\n",
        "numpy.random.seed(2)\n",
        "\n",
        "# loading load prima indians diabetes dataset, past 5 years of medical history\n",
        "dataset = numpy.loadtxt(\"prima-indians-diabetes.csv\", delimiter=\",\")\n",
        "\n",
        "# split into input (X) and output (Y) variables, splitting csv data\n",
        "X = dataset[:,0:8]\n",
        "Y = dataset[:,8]\n",
        "\n",
        "# split X, Y into a train and test set\n",
        "x_train, x_test, y_train, y_test = train_test_split(X, Y, test_size=0.2, random_state=42)\n",
        "\n",
        "model = RandomForestClassifier()\n",
        "model.fit(x_train, y_train)\n",
        "\n",
        "predictions = model.predict(x_test)"
      ],
      "metadata": {
        "id": "5pOFumO88Sc-"
      },
      "execution_count": null,
      "outputs": []
    },
    {
      "cell_type": "code",
      "source": [
        "model.score(x_train, y_train)"
      ],
      "metadata": {
        "id": "CllRSstX9aXL"
      },
      "execution_count": null,
      "outputs": []
    },
    {
      "cell_type": "code",
      "source": [
        "output.to_csv('output.csv', index=False)"
      ],
      "metadata": {
        "id": "M5tOLATb9egD"
      },
      "execution_count": null,
      "outputs": []
    }
  ],
  "metadata": {
    "colab": {
      "provenance": []
    },
    "kernelspec": {
      "display_name": "Python 3",
      "language": "python",
      "name": "python3"
    },
    "language_info": {
      "codemirror_mode": {
        "name": "ipython",
        "version": 3
      },
      "file_extension": ".py",
      "mimetype": "text/x-python",
      "name": "python",
      "nbconvert_exporter": "python",
      "pygments_lexer": "ipython3",
      "version": "3.6.9"
    }
  },
  "nbformat": 4,
  "nbformat_minor": 0
}